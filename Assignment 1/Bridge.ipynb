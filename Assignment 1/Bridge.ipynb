{
 "cells": [
  {
   "cell_type": "markdown",
   "id": "66557e8d",
   "metadata": {},
   "source": [
    "### Bridge Crossing Problem"
   ]
  },
  {
   "cell_type": "code",
   "execution_count": 16,
   "id": "d6dc87b8",
   "metadata": {},
   "outputs": [],
   "source": [
    "people = ['Amogh', 'Ameya', 'Grandma', 'Grandpa']\n",
    "\n",
    "def moveGen(s):\n",
    "    res = []\n",
    "    m = s[0]\n",
    "    u = s[1]\n",
    "    p = s[2]\n",
    "\n",
    "    if u == 0:\n",
    "        left = []\n",
    "        for i in range(4):\n",
    "            if (m & (1 << i)) == 0:\n",
    "                left.append(i)\n",
    "        for i in range(len(left)):\n",
    "            for j in range(i, len(left)):\n",
    "                a = left[i]\n",
    "                b = left[j]\n",
    "                new_m = m | (1 << a) | (1 << b)\n",
    "                new_p = p[:]\n",
    "                if a == b:\n",
    "                    new_p.append(people[a] + \" goes right\")\n",
    "                else:\n",
    "                    new_p.append(people[a] + \" ,\" + people[b] + \" go right\")\n",
    "                res.append((new_m, 1, new_p))\n",
    "    else:\n",
    "        for i in range(4):\n",
    "            if (m & (1 << i)):\n",
    "                new_m = m & ~(1 << i)\n",
    "                new_p = p[:]\n",
    "                new_p.append(people[i] + \" come back\")\n",
    "                res.append((new_m, 0, new_p))\n",
    "\n",
    "    return res\n",
    "\n",
    "\n"
   ]
  },
  {
   "cell_type": "markdown",
   "id": "5ffcdfeb",
   "metadata": {},
   "source": [
    "### BFS"
   ]
  },
  {
   "cell_type": "code",
   "execution_count": 17,
   "id": "c7ac4b74",
   "metadata": {},
   "outputs": [
    {
     "name": "stdout",
     "output_type": "stream",
     "text": [
      "Amogh ,Ameya go right\n",
      "Amogh come back\n",
      "Amogh ,Grandma go right\n",
      "Amogh come back\n",
      "Amogh ,Grandpa go right\n"
     ]
    }
   ],
   "source": [
    "def bfs():\n",
    "    q = []\n",
    "    q.append((0, 0, []))\n",
    "    v = set()\n",
    "\n",
    "    while q:\n",
    "        s = q.pop(0)\n",
    "        m = s[0]\n",
    "        u = s[1]\n",
    "        p = s[2]\n",
    "\n",
    "        if m == 15 and u == 1:\n",
    "            for step in p:\n",
    "                print(step)\n",
    "            return\n",
    "\n",
    "        if (m, u) in v:\n",
    "            continue\n",
    "        v.add((m, u))\n",
    "\n",
    "        nxt = moveGen(s)\n",
    "        for ns in nxt:\n",
    "            q.append(ns)\n",
    "\n",
    "\n",
    "bfs()"
   ]
  },
  {
   "cell_type": "markdown",
   "id": "5810f23a",
   "metadata": {},
   "source": [
    "### DFS"
   ]
  },
  {
   "cell_type": "code",
   "execution_count": 18,
   "id": "5d5a2396",
   "metadata": {},
   "outputs": [],
   "source": [
    "def dfs(m, u, p, v):\n",
    "    if m == 15 and u == 1:\n",
    "        for step in p:\n",
    "            print(step)\n",
    "        return True\n",
    "\n",
    "    if (m, u) in v:\n",
    "        return False\n",
    "    v.add((m, u))\n",
    "\n",
    "    nxt = moveGen((m, u, p))\n",
    "    for ns in nxt:\n",
    "        if dfs(ns[0], ns[1], ns[2], v):\n",
    "            return True\n",
    "    return False\n"
   ]
  },
  {
   "cell_type": "code",
   "execution_count": 19,
   "id": "08604713",
   "metadata": {},
   "outputs": [
    {
     "name": "stdout",
     "output_type": "stream",
     "text": [
      "Amogh ,Ameya go right\n",
      "Amogh come back\n",
      "Amogh ,Grandma go right\n",
      "Amogh come back\n",
      "Amogh ,Grandpa go right\n"
     ]
    },
    {
     "data": {
      "text/plain": [
       "True"
      ]
     },
     "execution_count": 19,
     "metadata": {},
     "output_type": "execute_result"
    }
   ],
   "source": [
    "dfs(0, 0, [], set())"
   ]
  },
  {
   "cell_type": "code",
   "execution_count": null,
   "id": "7da1f441",
   "metadata": {},
   "outputs": [],
   "source": []
  }
 ],
 "metadata": {
  "kernelspec": {
   "display_name": "base",
   "language": "python",
   "name": "python3"
  },
  "language_info": {
   "codemirror_mode": {
    "name": "ipython",
    "version": 3
   },
   "file_extension": ".py",
   "mimetype": "text/x-python",
   "name": "python",
   "nbconvert_exporter": "python",
   "pygments_lexer": "ipython3",
   "version": "3.13.5"
  }
 },
 "nbformat": 4,
 "nbformat_minor": 5
}
