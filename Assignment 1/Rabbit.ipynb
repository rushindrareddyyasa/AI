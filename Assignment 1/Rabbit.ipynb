{
 "cells": [
  {
   "cell_type": "markdown",
   "id": "3a4db294",
   "metadata": {},
   "source": [
    "### Rabbit Problem"
   ]
  },
  {
   "cell_type": "code",
   "execution_count": null,
   "id": "c8884191",
   "metadata": {},
   "outputs": [],
   "source": [
    "def is_goal(state):\n",
    "    return state == ['W', 'W', 'W', '_', 'E', 'E', 'E']\n",
    "\n",
    "def moveGen(state):\n",
    "    result = []\n",
    "    pos = 0\n",
    "    while pos < len(state):\n",
    "        if state[pos] == '_':\n",
    "            break\n",
    "        pos += 1\n",
    "    if pos > 0 and state[pos - 1] == 'E':\n",
    "        s = state[:]\n",
    "        s[pos], s[pos - 1] = s[pos - 1], s[pos]\n",
    "        result.append(s)\n",
    "\n",
    "\n",
    "\n",
    "\n",
    "\n",
    "    if pos > 1 and state[pos - 2] == 'E':\n",
    "        s = state[:]\n",
    "        s[pos], s[pos - 2] = s[pos - 2], s[pos]\n",
    "        result.append(s)\n",
    "    if pos < 6 and state[pos + 1] == 'W':\n",
    "        s = state[:]\n",
    "        s[pos], s[pos + 1] = s[pos + 1], s[pos]\n",
    "        result.append(s)\n",
    "\n",
    "\n",
    "    if pos < 5 and state[pos + 2] == 'W':\n",
    "        s = state[:]\n",
    "        s[pos], s[pos + 2] = s[pos + 2], s[pos]\n",
    "        result.append(s)\n",
    "\n",
    "    return result\n",
    "\n",
    "\n"
   ]
  },
  {
   "cell_type": "markdown",
   "id": "9bc17ee1",
   "metadata": {},
   "source": [
    "### BFS Code\n"
   ]
  },
  {
   "cell_type": "code",
   "execution_count": 30,
   "id": "65bd6867",
   "metadata": {},
   "outputs": [
    {
     "name": "stdout",
     "output_type": "stream",
     "text": [
      "['E', 'E', 'E', '_', 'W', 'W', 'W']\n",
      "['E', 'E', '_', 'E', 'W', 'W', 'W']\n",
      "['E', 'E', 'W', 'E', '_', 'W', 'W']\n",
      "['E', 'E', 'W', 'E', 'W', '_', 'W']\n",
      "['E', 'E', 'W', '_', 'W', 'E', 'W']\n",
      "['E', '_', 'W', 'E', 'W', 'E', 'W']\n",
      "['_', 'E', 'W', 'E', 'W', 'E', 'W']\n",
      "['W', 'E', '_', 'E', 'W', 'E', 'W']\n",
      "['W', 'E', 'W', 'E', '_', 'E', 'W']\n",
      "['W', 'E', 'W', 'E', 'W', 'E', '_']\n",
      "['W', 'E', 'W', 'E', 'W', '_', 'E']\n",
      "['W', 'E', 'W', '_', 'W', 'E', 'E']\n",
      "['W', '_', 'W', 'E', 'W', 'E', 'E']\n",
      "['W', 'W', '_', 'E', 'W', 'E', 'E']\n",
      "['W', 'W', 'W', 'E', '_', 'E', 'E']\n",
      "['W', 'W', 'W', '_', 'E', 'E', 'E']\n"
     ]
    }
   ],
   "source": [
    "def bfs_rabbit():\n",
    "    start = ['E', 'E', 'E', '_', 'W', 'W', 'W']\n",
    "    queue = [[start]]\n",
    "    visited = []\n",
    "\n",
    "    while len(queue) > 0:\n",
    "        path = queue[0]\n",
    "        queue = queue[1:]\n",
    "        current = path[-1]\n",
    "\n",
    "        if current in visited:\n",
    "            continue\n",
    "        visited.append(current)\n",
    "\n",
    "        if is_goal(current):\n",
    "            for step in path:\n",
    "                print(step)\n",
    "            return\n",
    "\n",
    "        nexts = moveGen(current)\n",
    "        for n in nexts:\n",
    "            queue.append(path + [n])\n",
    "\n",
    "bfs_rabbit()"
   ]
  },
  {
   "cell_type": "markdown",
   "id": "ed494e52",
   "metadata": {},
   "source": [
    "### DFS"
   ]
  },
  {
   "cell_type": "code",
   "execution_count": 31,
   "id": "7e0d969d",
   "metadata": {},
   "outputs": [
    {
     "name": "stdout",
     "output_type": "stream",
     "text": [
      "['E', 'E', 'E', '_', 'W', 'W', 'W']\n",
      "['E', 'E', '_', 'E', 'W', 'W', 'W']\n",
      "['E', 'E', 'W', 'E', '_', 'W', 'W']\n",
      "['E', 'E', 'W', 'E', 'W', '_', 'W']\n",
      "['E', 'E', 'W', '_', 'W', 'E', 'W']\n",
      "['E', '_', 'W', 'E', 'W', 'E', 'W']\n",
      "['_', 'E', 'W', 'E', 'W', 'E', 'W']\n",
      "['W', 'E', '_', 'E', 'W', 'E', 'W']\n",
      "['W', 'E', 'W', 'E', '_', 'E', 'W']\n",
      "['W', 'E', 'W', 'E', 'W', 'E', '_']\n",
      "['W', 'E', 'W', 'E', 'W', '_', 'E']\n",
      "['W', 'E', 'W', '_', 'W', 'E', 'E']\n",
      "['W', '_', 'W', 'E', 'W', 'E', 'E']\n",
      "['W', 'W', '_', 'E', 'W', 'E', 'E']\n",
      "['W', 'W', 'W', 'E', '_', 'E', 'E']\n",
      "['W', 'W', 'W', '_', 'E', 'E', 'E']\n"
     ]
    }
   ],
   "source": [
    "def dfs_rabbit():\n",
    "    def dfs(state, path, visited):\n",
    "        if state == ['W', 'W', 'W', '_', 'E', 'E', 'E']:\n",
    "            for p in path:\n",
    "                print(p)\n",
    "            return True\n",
    "\n",
    "        if state in visited:\n",
    "            return False\n",
    "\n",
    "        visited.append(state)\n",
    "\n",
    "        for next_state in moveGen(state):\n",
    "            if dfs(next_state, path + [next_state], visited):\n",
    "                return True\n",
    "        return False\n",
    "\n",
    "    start = ['E', 'E', 'E', '_', 'W', 'W', 'W']\n",
    "    dfs(start, [start], [])\n",
    "\n",
    "dfs_rabbit()\n"
   ]
  },
  {
   "cell_type": "code",
   "execution_count": null,
   "id": "4d0ce1c9",
   "metadata": {},
   "outputs": [],
   "source": []
  }
 ],
 "metadata": {
  "kernelspec": {
   "display_name": "base",
   "language": "python",
   "name": "python3"
  },
  "language_info": {
   "codemirror_mode": {
    "name": "ipython",
    "version": 3
   },
   "file_extension": ".py",
   "mimetype": "text/x-python",
   "name": "python",
   "nbconvert_exporter": "python",
   "pygments_lexer": "ipython3",
   "version": "3.13.5"
  }
 },
 "nbformat": 4,
 "nbformat_minor": 5
}
